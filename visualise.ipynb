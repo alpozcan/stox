{
 "cells": [
  {
   "cell_type": "code",
   "execution_count": null,
   "metadata": {
    "ExecuteTime": {
     "end_time": "2020-02-22T12:02:17.944666Z",
     "start_time": "2020-02-22T12:02:17.727977Z"
    }
   },
   "outputs": [],
   "source": [
    "import numpy as np\n",
    "import pandas as pd\n",
    "import matplotlib.pyplot as plt\n",
    "from datetime import timedelta\n",
    "from lib import jupyter_io\n",
    "\n",
    "%matplotlib inline\n",
    "\n",
    "predictions = jupyter_io.read_all_predictions()\n",
    "results = jupyter_io.read_results()"
   ]
  },
  {
   "cell_type": "code",
   "execution_count": null,
   "metadata": {
    "scrolled": false
   },
   "outputs": [],
   "source": [
    "for ticker in results.head(5).index:\n",
    "    ticker_predictions = predictions[(predictions.index.get_level_values(1)==ticker)]\n",
    "    ticker_predictions.index = ticker_predictions.index.droplevel(level=1)\n",
    "    from_date = ticker_predictions.index.min() - timedelta(days=31)\n",
    "    \n",
    "    data = jupyter_io.read_ticker_price_data(ticker, from_date) # ground truth\n",
    "#     display(data)\n",
    "#     last_prediction_date = results.loc[ticker, 'predicted_at']\n",
    "#     last_prediction_pct  = results.loc[ticker, 'prediction']\n",
    "#     data.at[last_prediction_date, 'prediction'] = last_prediction_pct\n",
    "    data['predicted_avg_price'] = ((ticker_predictions['prediction'] / 100 + 1) * data['mid_price']).ffill()\n",
    "    \n",
    "    ax = plt.gca()\n",
    "    data.plot(kind='line', y='close',ax=ax)\n",
    "    data.plot(kind='line', y='predicted_avg_price',ax=ax)\n",
    "    plt.title(f\"{ticker}   (p:{results.loc[ticker, 'prediction']}, \" + u'\\u03B1:' + f\"{results.loc[ticker, 'alpha']}, {ticker_predictions.tail(1).index.values[0].astype('M8[D]')})\")\n",
    "    plt.show()\n",
    "    \n",
    "    pd.set_option('display.max_rows', None)  \n",
    "#     display(data)"
   ]
  },
  {
   "cell_type": "code",
   "execution_count": null,
   "metadata": {},
   "outputs": [],
   "source": []
  }
 ],
 "metadata": {
  "hide_input": false,
  "kernelspec": {
   "display_name": "Python 3",
   "language": "python",
   "name": "python3"
  },
  "language_info": {
   "codemirror_mode": {
    "name": "ipython",
    "version": 3
   },
   "file_extension": ".py",
   "mimetype": "text/x-python",
   "name": "python",
   "nbconvert_exporter": "python",
   "pygments_lexer": "ipython3",
   "version": "3.8.2"
  },
  "varInspector": {
   "cols": {
    "lenName": 16,
    "lenType": 16,
    "lenVar": 40
   },
   "kernels_config": {
    "python": {
     "delete_cmd_postfix": "",
     "delete_cmd_prefix": "del ",
     "library": "var_list.py",
     "varRefreshCmd": "print(var_dic_list())"
    },
    "r": {
     "delete_cmd_postfix": ") ",
     "delete_cmd_prefix": "rm(",
     "library": "var_list.r",
     "varRefreshCmd": "cat(var_dic_list()) "
    }
   },
   "types_to_exclude": [
    "module",
    "function",
    "builtin_function_or_method",
    "instance",
    "_Feature"
   ],
   "window_display": false
  }
 },
 "nbformat": 4,
 "nbformat_minor": 2
}
